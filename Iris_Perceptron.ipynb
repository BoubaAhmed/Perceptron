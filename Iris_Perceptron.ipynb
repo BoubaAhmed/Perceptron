{
 "cells": [
  {
   "cell_type": "markdown",
   "metadata": {},
   "source": [
    "## 1. Configuration Initiale"
   ]
  },
  {
   "cell_type": "code",
   "execution_count": null,
   "metadata": {},
   "outputs": [],
   "source": [
    "import numpy as np\n",
    "import pandas as pd\n",
    "import matplotlib.pyplot as plt\n",
    "from sklearn.metrics import accuracy_score, confusion_matrix, ConfusionMatrixDisplay \n",
    "from sklearn.model_selection import train_test_split \n",
    "from sklearn.preprocessing import StandardScaler \n",
    "from sklearn.linear_model import Perceptron as SklearnPerceptron\n",
    "import plotly.express as px"
   ]
  },
  {
   "cell_type": "markdown",
   "metadata": {},
   "source": [
    "## 2. Chargement et Exploration des Données"
   ]
  },
  {
   "cell_type": "code",
   "execution_count": null,
   "metadata": {},
   "outputs": [],
   "source": [
    "df = pd.read_csv('Iris.csv')\n",
    "print(\"Statistiques descriptives :\\n\", df.describe())\n",
    "print(\"\\nDistribution des classes :\\n\", df['Species'].value_counts())\n",
    "\n",
    "# Visualisation interactive 3D\n",
    "fig = px.scatter_3d(df, x='SepalLengthCm', y='SepalWidthCm', z='PetalLengthCm', \n",
    "                    color='Species', title=\"Distribution 3D des Espèces\")\n",
    "fig.show()"
   ]
  },
  {
   "cell_type": "markdown",
   "metadata": {},
   "source": [
    " ## 3. Prétraitement des Données"
   ]
  },
  {
   "cell_type": "code",
   "execution_count": null,
   "metadata": {},
   "outputs": [],
   "source": [
    "# Filtrage des classes et sélection de features\n",
    "df = df[df['Species'].isin(['Iris-setosa', 'Iris-versicolor'])]\n",
    "X = df[['SepalLengthCm', 'PetalWidthCm']].values  # Choix stratégique de features\n",
    "y = df['Species'].map({'Iris-setosa': 0, 'Iris-versicolor': 1}).values\n",
    "\n",
    "# Normalisation\n",
    "scaler = StandardScaler()\n",
    "X = scaler.fit_transform(X)\n",
    "\n",
    "# Split des données\n",
    "X_train, X_test, y_train, y_test = train_test_split(X, y, test_size=0.25, stratify=y)"
   ]
  },
  {
   "cell_type": "markdown",
   "metadata": {},
   "source": [
    " ## 4. Implémentation Avancée du Perceptron"
   ]
  },
  {
   "cell_type": "code",
   "execution_count": null,
   "metadata": {},
   "outputs": [],
   "source": [
    "class MyPerceptron:\n",
    "    def __init__(self, learning_rate=0.1, n_iters=100, early_stopping=True):\n",
    "        self.lr = learning_rate\n",
    "        self.n_iters = n_iters\n",
    "        self.weights = None\n",
    "        self.bias = None\n",
    "        self.early_stopping = early_stopping\n",
    "        self.errors_history = []\n",
    "        \n",
    "    def fit(self, X, y):\n",
    "        n_samples, n_features = X.shape\n",
    "        self.weights = np.zeros(n_features)\n",
    "        self.bias = 0\n",
    "        \n",
    "        for epoch in range(self.n_iters):\n",
    "            total_error = 0\n",
    "            for xi, yi in zip(X, y):\n",
    "                prediction = self.activation(xi)\n",
    "                error = yi - prediction\n",
    "                update = self.lr * error\n",
    "                self.weights += update * xi\n",
    "                self.bias += update\n",
    "                total_error += int(error != 0)\n",
    "            \n",
    "            self.errors_history.append(total_error)\n",
    "            if self.early_stopping and total_error == 0:\n",
    "                print(f\"Arrêt précoce à l'epoch {epoch}\")\n",
    "                break\n",
    "                \n",
    "    def activation(self, x):\n",
    "        return 1 if (np.dot(x, self.weights) + self.bias) >= 0 else 0\n",
    "    \n",
    "    def predict(self, X):\n",
    "        return np.array([self.activation(x) for x in X])"
   ]
  },
  {
   "cell_type": "markdown",
   "metadata": {},
   "source": [
    "## 5. Entraînement et Visualisation Dynamique"
   ]
  },
  {
   "cell_type": "code",
   "execution_count": null,
   "metadata": {},
   "outputs": [],
   "source": [
    "perceptron = MyPerceptron(learning_rate=0.15, n_iters=50)\n",
    "perceptron.fit(X_train, y_train)\n",
    "\n",
    "# Visualisation de l'évolution des erreurs\n",
    "plt.plot(perceptron.errors_history, marker='o')\n",
    "plt.xlabel('Epochs')\n",
    "plt.ylabel('Erreurs de Classification')\n",
    "plt.title('Convergence du Perceptron')\n",
    "plt.grid(True)\n",
    "plt.show()"
   ]
  },
  {
   "cell_type": "markdown",
   "metadata": {},
   "source": [
    "## 6. Visualisation Avancée des Frontières"
   ]
  },
  {
   "cell_type": "code",
   "execution_count": null,
   "metadata": {},
   "outputs": [],
   "source": [
    "def plot_decision_boundary_3d(model, X, y):\n",
    "    # Création d'une grille 3D\n",
    "    x_min, x_max = X[:, 0].min() - 1, X[:, 0].max() + 1\n",
    "    y_min, y_max = X[:, 1].min() - 1, X[:, 1].max() + 1\n",
    "    xx, yy = np.meshgrid(np.linspace(x_min, x_max, 50),\n",
    "                         np.linspace(y_min, y_max, 50))\n",
    "    \n",
    "    # Prédictions sur la grille\n",
    "    Z = model.predict(np.c_[xx.ravel(), yy.ravel()])\n",
    "    Z = Z.reshape(xx.shape)\n",
    "    \n",
    "    # Visualisation 3D interactive\n",
    "    fig = px.scatter_3d(x=X[:,0], y=X[:,1], z=y, \n",
    "                        color=y.astype(str), \n",
    "                        labels={'color': 'Classe'},\n",
    "                        title=\"Frontière de Décision 3D\")\n",
    "    fig.update_traces(marker=dict(size=5))\n",
    "    fig.add_surface(x=xx, y=yy, z=Z, opacity=0.5, colorscale='Blues')\n",
    "    fig.show()\n",
    "\n",
    "plot_decision_boundary_3d(perceptron, X_train, y_train)"
   ]
  },
  {
   "cell_type": "markdown",
   "metadata": {},
   "source": [
    " ## 7. Évaluation Comparative"
   ]
  },
  {
   "cell_type": "code",
   "execution_count": null,
   "metadata": {},
   "outputs": [],
   "source": [
    "# Évaluation du modèle personnalisé\n",
    "y_pred_custom = perceptron.predict(X_test)\n",
    "print(\"Performance du Perceptron Personnalisé :\")\n",
    "print(f\"Accuracy: {accuracy_score(y_test, y_pred_custom):.2f}\")\n",
    "\n",
    "# Comparaison avec Scikit-Learn\n",
    "sk_perceptron = SklearnPerceptron(alpha=0.15, max_iter=50)\n",
    "sk_perceptron.fit(X_train, y_train)\n",
    "y_pred_sk = sk_perceptron.predict(X_test)\n",
    "print(\"\\nPerformance du Perceptron de Scikit-Learn :\")\n",
    "print(f\"Accuracy: {accuracy_score(y_test, y_pred_sk):.2f}\")\n",
    "\n",
    "# Matrice de confusion interactive\n",
    "fig = px.imshow(confusion_matrix(y_test, y_pred_custom),\n",
    "                labels=dict(x=\"Prédit\", y=\"Réel\", color=\"Count\"),\n",
    "                x=['0', '1'], y=['0', '1'],\n",
    "                title=\"Matrice de Confusion\")\n",
    "fig.show()\n"
   ]
  },
  {
   "cell_type": "markdown",
   "metadata": {},
   "source": [
    "## 9. Test Interactif avec Boucle"
   ]
  },
  {
   "cell_type": "code",
   "execution_count": null,
   "metadata": {},
   "outputs": [],
   "source": [
    "\n",
    "def test_model_interactively(model, scaler):\n",
    "    print(\"Entrez les valeurs pour tester le modèle :\")\n",
    "    sepal_length = float(input(\"Longueur du sépale (en cm) : \"))\n",
    "    petal_width = float(input(\"Largeur du pétale (en cm) : \"))\n",
    "    \n",
    "    input_data = np.array([[sepal_length, petal_width]])\n",
    "    \n",
    "    input_data_normalized = scaler.transform(input_data)\n",
    "    \n",
    "    prediction = model.predict(input_data_normalized)\n",
    "    predicted_class = \"Setosa\" if prediction[0] == 0 else \"Versicolor\"\n",
    "    \n",
    "    print(f\"\\nRésultat de la prédiction : {predicted_class}\")\n",
    "\n",
    "test_model_interactively(perceptron, scaler)"
   ]
  }
 ],
 "metadata": {
  "kernelspec": {
   "display_name": "myenv",
   "language": "python",
   "name": "python3"
  },
  "language_info": {
   "codemirror_mode": {
    "name": "ipython",
    "version": 3
   },
   "file_extension": ".py",
   "mimetype": "text/x-python",
   "name": "python",
   "nbconvert_exporter": "python",
   "pygments_lexer": "ipython3",
   "version": "3.13.0"
  }
 },
 "nbformat": 4,
 "nbformat_minor": 2
}
